{
 "cells": [
  {
   "cell_type": "markdown",
   "metadata": {},
   "source": [
    "<img style=\"float: right;\" src=https://nbviewer.jupyter.org/github/marianux/jupytest/blob/master/logo_UTN.svg width=\"200\">\n",
    "\n",
    "###     Teoría de Circuitos II"
   ]
  },
  {
   "cell_type": "markdown",
   "metadata": {},
   "source": [
    "Ejercicio 2"
   ]
  },
  {
   "cell_type": "markdown",
   "metadata": {},
   "source": [
    "Obtener la Z(s) que corresponde a la siguiente función de fase:\n",
    "\n",
    "$$\n",
    "\\phi(jw) = \\arctan \\frac{-\\omega^{5}+5\\omega^{3}-2\\omega}{2\\omega^{4}-\\omega^{2}+5}\n",
    "$$"
   ]
  },
  {
   "cell_type": "markdown",
   "metadata": {},
   "source": [
    "$$\n",
    "j\\tan[\\phi(j\\omega)]|_{\\omega=\\frac{s}{j}} = \\frac{N(s)}{M(s)} = j\\frac{-\\omega^{5}+5\\omega^{3}-2\\omega}{2\\omega^{4}-\\omega^{2}+5}|_{\\omega=\\frac{s}{j}} = j\\omega\\frac{-\\omega^{4}+5\\omega^{2}-2}{2\\omega^{4}-\\omega^{2}+5}|_{\\omega=\\frac{s}{j}}\n",
    "$$"
   ]
  },
  {
   "cell_type": "markdown",
   "metadata": {},
   "source": [
    "$$\n",
    "\\frac{N(s)}{M(s)} = s\\frac{-(\\frac{s}{j})^{4}+5(\\frac{s}{j})^{2}-2}{2(\\frac{s}{j})^{4}-(\\frac{s}{j})^{2}+5} = s\\frac{-s^{4}+s^{2}-2}{2s^{4}+s^{2}+5}\n",
    "$$"
   ]
  },
  {
   "cell_type": "markdown",
   "metadata": {},
   "source": [
    "- $N(s)=-s^{5}-5s^{3}-2s$\n",
    "- $M(s)=2s^{4}+s^{2}+5$"
   ]
  },
  {
   "cell_type": "markdown",
   "metadata": {},
   "source": [
    "$$\n",
    "M(s)+N(s)=P(s).Q(-s)=-(s^{5}-2s^{4}+5s^{3}-s^{2}+2s-5)\n",
    "$$"
   ]
  },
  {
   "cell_type": "markdown",
   "metadata": {},
   "source": [
    "Proponiendo raiz s=1 y aplicando ruffini:"
   ]
  },
  {
   "cell_type": "markdown",
   "metadata": {},
   "source": [
    "$$\n",
    "P(s).Q(-s)=(s-1)(s^{4}-s^{3}+4^{2}+3s+5)\n",
    "$$\n",
    "\n",
    "$$\n",
    "Donde:~s^{4}-s^{3}+4^{2}+3s+5 = (s^{2}+as+b)(s^{2}+cs+d) = s^{4}+s^{3}(a+c)+s^{2}(d+ac+b)+s(ad+bc)+bd\n",
    "$$"
   ]
  },
  {
   "cell_type": "markdown",
   "metadata": {},
   "source": [
    "- $a+c = -1$\n",
    "- $d+ac+b=4$\n",
    "- $ad+bc=3$\n",
    "- $bd=5$"
   ]
  },
  {
   "cell_type": "markdown",
   "metadata": {},
   "source": [
    "Resolviendo el sistema de ecuaciones:\n",
    "\n",
    "- $a=-2$\n",
    "- $b=5$\n",
    "- $c=1$\n",
    "- $d=1$"
   ]
  },
  {
   "cell_type": "markdown",
   "metadata": {},
   "source": [
    "$$\n",
    "P(s).Q(-s)=-(s-1)(s^{2}-2s+5)(s^{2}+s+1)\n",
    "$$"
   ]
  },
  {
   "cell_type": "markdown",
   "metadata": {},
   "source": [
    "$$\n",
    "Q(-s) = -(s-1)(s^{2}+2s+5) ~\\Rightarrow~Q(s) = -(-s-1)(s^{2}+2s+5)\n",
    "$$\n",
    "\n",
    "- $P(s) = s^{2}+s+1$\n",
    "- $Q(s) = (s+1)(S^{2}+2s+5)$"
   ]
  },
  {
   "cell_type": "markdown",
   "metadata": {},
   "source": [
    "$$\n",
    "\\frac{P(s)}{Q(s)} = Z(s) = \\frac{s^{2}+s+1}{(s+1)(S^{2}+2s+5)}\n",
    "$$"
   ]
  }
 ],
 "metadata": {
  "kernelspec": {
   "display_name": "Python 3",
   "language": "python",
   "name": "python3"
  },
  "language_info": {
   "codemirror_mode": {
    "name": "ipython",
    "version": 3
   },
   "file_extension": ".py",
   "mimetype": "text/x-python",
   "name": "python",
   "nbconvert_exporter": "python",
   "pygments_lexer": "ipython3",
   "version": "3.7.4"
  }
 },
 "nbformat": 4,
 "nbformat_minor": 2
}
